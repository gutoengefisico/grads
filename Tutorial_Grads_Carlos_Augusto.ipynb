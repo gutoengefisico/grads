{
  "nbformat": 4,
  "nbformat_minor": 0,
  "metadata": {
    "colab": {
      "private_outputs": true,
      "provenance": []
    },
    "kernelspec": {
      "name": "python3",
      "display_name": "Python 3"
    },
    "language_info": {
      "name": "python"
    }
  },
  "cells": [
    {
      "cell_type": "markdown",
      "metadata": {
        "id": "ZoTIUcqVM9DH"
      },
      "source": [
        "Aqui é instalado o GrADS para Ubuntu 18.04 com o comando apt\n",
        "É instalado o pacote cartopy (linhas de divisão entre paises)  e é feito uma instalação do pacote shapely a força para corrigir um bug no cartopy.\n"
      ]
    },
    {
      "cell_type": "code",
      "metadata": {
        "id": "m5sX-mH0P9E5"
      },
      "source": [
        "!apt install grads\n",
        "!pip install cartopy\n",
        "!pip install --no-binary shapely shapely --force\n"
      ],
      "execution_count": null,
      "outputs": []
    },
    {
      "cell_type": "markdown",
      "metadata": {
        "id": "EH8-DAFhNvPj"
      },
      "source": [
        "O comando git faz uma copia do programa py3grads do github\n",
        "\n"
      ]
    },
    {
      "cell_type": "code",
      "metadata": {
        "id": "JyESaJxAQJaC"
      },
      "source": [
        "!git clone https://github.com/meridionaljet/py3grads"
      ],
      "execution_count": null,
      "outputs": []
    },
    {
      "cell_type": "markdown",
      "metadata": {
        "id": "qFBKHaitOGtc"
      },
      "source": [
        "Vá no diretorio py3grads"
      ]
    },
    {
      "cell_type": "code",
      "metadata": {
        "id": "hQdyZb4bQOr4"
      },
      "source": [
        "%cd py3grads\n"
      ],
      "execution_count": null,
      "outputs": []
    },
    {
      "cell_type": "markdown",
      "metadata": {
        "id": "qFvjoulPOP1Q"
      },
      "source": [
        "Compila e instala o programa py3grads\n"
      ]
    },
    {
      "cell_type": "code",
      "metadata": {
        "id": "zgUnhrhZWarK"
      },
      "source": [
        "!python setup.py install"
      ],
      "execution_count": null,
      "outputs": []
    },
    {
      "cell_type": "markdown",
      "metadata": {
        "id": "SdbW-zYSOsud"
      },
      "source": [
        "Volta a diretorio de trabalho (/content) "
      ]
    },
    {
      "cell_type": "code",
      "metadata": {
        "id": "ff8o8R3vQ6IW"
      },
      "source": [
        "%cd .."
      ],
      "execution_count": null,
      "outputs": []
    },
    {
      "cell_type": "markdown",
      "metadata": {
        "id": "XQq3-lHeO3Z3"
      },
      "source": [
        "Use o programa wget para pegar o diretorio example.tar.gz no site do GrADS"
      ]
    },
    {
      "cell_type": "code",
      "metadata": {
        "id": "-Zv7w8b_WkQS"
      },
      "source": [
        "!wget ftp://cola.gmu.edu/grads/example.tar.gz"
      ],
      "execution_count": null,
      "outputs": []
    },
    {
      "cell_type": "markdown",
      "metadata": {
        "id": "6hzjp9O8PKQT"
      },
      "source": [
        "Descomprime o diretorio example.tar.gz"
      ]
    },
    {
      "cell_type": "code",
      "metadata": {
        "id": "RxobKlAsWnL5"
      },
      "source": [
        "!tar zxvf example.tar.gz"
      ],
      "execution_count": null,
      "outputs": []
    },
    {
      "cell_type": "markdown",
      "metadata": {
        "id": "JROHBPszPULv"
      },
      "source": [
        "Notar que:\n",
        "./model.ctl = contem o aquivo controle .ctl\n",
        "./model.dat = contem o aquivo de dados na forma binaria \n",
        "./tutorial = contem o aquivo com os comando usado no tutorial do GrADS"
      ]
    },
    {
      "cell_type": "markdown",
      "metadata": {
        "id": "uf9OrH75Pz7o"
      },
      "source": [
        "Agora use o pacote py3grads para emular o GrADS no %%python\n",
        "A vantagem de usar o py3grads em vez do python puro é levar ao %%python\n",
        "100% de aquivos conhecidos na meterologia"
      ]
    },
    {
      "cell_type": "code",
      "metadata": {
        "id": "3LrKM6oZQ-Hz"
      },
      "source": [
        "from py3grads import Grads \n",
        "ga = Grads(verbose=False) \n",
        "ga('open model.ctl')\n",
        "ga('q file 1') "
      ],
      "execution_count": null,
      "outputs": []
    },
    {
      "cell_type": "code",
      "metadata": {
        "id": "xqXNJJcFT1LM"
      },
      "source": [
        "ga('set lon 0 360')\n",
        "ga('set lat -90 90') \n",
        "ga('set t 1') \n",
        "ps=ga.exp('ps') \n",
        "lons = ga.exp('lon') \n",
        "lats = ga.exp('lat')\n",
        "[ps.min(),ps.max()] "
      ],
      "execution_count": null,
      "outputs": []
    },
    {
      "cell_type": "markdown",
      "metadata": {
        "id": "8nilQWmZRszI"
      },
      "source": [
        "Agora use o cartopy e o matplotlib para plotar a variavel ps"
      ]
    },
    {
      "cell_type": "code",
      "metadata": {
        "id": "r_j_bDYEuG2L"
      },
      "source": [
        "import cartopy.crs as ccrs\n",
        "import matplotlib.pyplot as plt\n",
        "import numpy as np\n",
        "import warnings\n",
        "from shapely.errors import ShapelyDeprecationWarning\n",
        "warnings.filterwarnings(\"ignore\", category=ShapelyDeprecationWarning) \n",
        "plt.figure(figsize=(16,12)) \n",
        "ax=plt.axes(projection=ccrs.PlateCarree()) \n",
        "c1=plt.contourf(lons, lats, ps,[400,500,600,700,800,900,950,970,1000,1010,1020,1030,1040],cmap='rainbow')\n",
        "c2=plt.contour(lons, lats, ps,[400,500,600,700,800,900,950,970,1000,1010,1020,1030,1040],cmap='gray',linewidths=1)\n",
        "ax.coastlines(color='k')\n",
        "plt.colorbar(c1,orientation='horizontal')\n",
        "plt.savefig('pressao_em_superficie.png')"
      ],
      "execution_count": null,
      "outputs": []
    },
    {
      "cell_type": "code",
      "source": [
        "import cartopy.crs as ccrs\n",
        "import matplotlib.pyplot as plt\n",
        "import numpy as np\n",
        "import warnings\n",
        "from shapely.errors import ShapelyDeprecationWarning\n",
        "warnings.filterwarnings(\"ignore\", category=ShapelyDeprecationWarning) \n",
        "plt.figure(figsize=(16,12)) \n",
        "ax=plt.axes(projection=ccrs.PlateCarree()) \n",
        "c1=plt.contourf(lons, lats, ps,[400,500,600,700,800,900,950,970,1000,1010,1020,1030,1040],cmap='rainbow')\n",
        "c2=plt.contour(lons, lats, ps,[400,500,600,700,800,900,950,970,1000,1010,1020,1030,1040],cmap='gray',linewidths=1)\n",
        "ax.coastlines(color='r')\n",
        "plt.colorbar(c1,orientation='vertical')\n",
        "plt.savefig('pressao_em_superficie.png')"
      ],
      "metadata": {
        "id": "jXlvMxa-Xiyu"
      },
      "execution_count": null,
      "outputs": []
    },
    {
      "cell_type": "code",
      "metadata": {
        "id": "6eqvGHioOBU2"
      },
      "source": [
        "ga('set lon -90')\n",
        "ga('set lat 40') \n",
        "ga('set lev 500')\n",
        "ga('set t 1')  \n",
        "hgt=ga.exp('hgt') "
      ],
      "execution_count": null,
      "outputs": []
    },
    {
      "cell_type": "markdown",
      "metadata": {
        "id": "H-L5vyosH1VQ"
      },
      "source": [
        "Plote em uma dimensão"
      ]
    },
    {
      "cell_type": "code",
      "metadata": {
        "id": "kSy6aOVFGjNM"
      },
      "source": [
        "ga('set lon  -180 0') #   sets longitude to 90 degrees West\n",
        "hgt=ga.exp('hgt')  #         \n",
        "lons = ga.exp('lon')\n",
        "plt.figure(figsize=(10,8))\n",
        "plt.plot(lons,hgt)"
      ],
      "execution_count": null,
      "outputs": []
    },
    {
      "cell_type": "markdown",
      "source": [],
      "metadata": {
        "id": "1ccFUyuKYx7M"
      }
    },
    {
      "cell_type": "markdown",
      "source": [],
      "metadata": {
        "id": "nkBOhNjeeG0t"
      }
    },
    {
      "cell_type": "code",
      "source": [
        "ga('set lon  -180 0') #   sets longitude to 90 degrees West\n",
        "hgt=ga.exp('hgt')  #         \n",
        "lons = ga.exp('lon')\n",
        "plt.figure(figsize=(10,8))\n",
        "plt.title('Longitude(°) x Altura (m)',size=16)\n",
        "plt.xticks(rotation=90)\n",
        "plt.ylabel('Altura(metros)',size = 12)\n",
        "plt.xlabel('Longitude (°)',size = 12)\n",
        "plt.plot(lons,hgt)\n",
        "\n",
        "\n",
        "\n"
      ],
      "metadata": {
        "id": "l61I1mhmYzds"
      },
      "execution_count": null,
      "outputs": []
    },
    {
      "cell_type": "markdown",
      "metadata": {
        "id": "jBhTKLkpXG2u"
      },
      "source": [
        "Plote em duas dimensoes"
      ]
    },
    {
      "cell_type": "code",
      "metadata": {
        "id": "j9faPiGVHv1h"
      },
      "source": [
        "\n",
        "%matplotlib inline\n",
        "ga('set lat 0 90')\n",
        "ga('set lon 0 360')\n",
        "ga('set lev 500')\n",
        "lons = ga.exp('lon')\n",
        "lats = ga.exp('lat')\n",
        "hgt=ga.exp('hgt')  #  \n",
        "from matplotlib import pyplot as plt\n",
        "plt.figure(figsize=(10,8))\n",
        "ax=plt.axes(projection=ccrs.PlateCarree()) # set a projeção\n",
        "#plot o mapa das linhas de costa.\n",
        "ax.coastlines(color='k')\n",
        "plt.contourf(lons, lats, hgt)\n"
      ],
      "execution_count": null,
      "outputs": []
    },
    {
      "cell_type": "code",
      "source": [
        "%matplotlib inline\n",
        "ga('set lat 0 90')\n",
        "ga('set lon 0 360')\n",
        "ga('set lev 500')\n",
        "lons = ga.exp('lon')\n",
        "lats = ga.exp('lat')\n",
        "hgt=ga.exp('hgt')  #  \n",
        "from matplotlib import pyplot as plt\n",
        "plt.figure(figsize=(10,8))\n",
        "ax=plt.axes(projection=ccrs.PlateCarree()) # set a projeção\n",
        "#plot o mapa das linhas de costa.\n",
        "ax.coastlines(color='r')\n",
        "plt.contourf(hgt, lats, lons)\n"
      ],
      "metadata": {
        "id": "PT78jfIibIhv"
      },
      "execution_count": null,
      "outputs": []
    },
    {
      "cell_type": "code",
      "source": [
        "%matplotlib inline\n",
        "ga('set lat 0 90')\n",
        "ga('set lon 0 360')\n",
        "ga('set lev 500')\n",
        "lons = ga.exp('lon')\n",
        "lats = ga.exp('lat')\n",
        "hgt=ga.exp('hgt')  #  \n",
        "from matplotlib import pyplot as plt\n",
        "plt.figure(figsize=(10,8))\n",
        "ax=plt.axes(projection=ccrs.PlateCarree()) # set a projeção\n",
        "#plot o mapa das linhas de costa.\n",
        "ax.coastlines(color='r')\n",
        "plt.contourf(hgt, lons, lats)"
      ],
      "metadata": {
        "id": "AIAfSJjxbums"
      },
      "execution_count": null,
      "outputs": []
    },
    {
      "cell_type": "markdown",
      "metadata": {
        "id": "Vqy6WuP2XNCM"
      },
      "source": [
        "Plote uma animação do geopotencial em 500 hPa e salve em aquivos separados"
      ]
    },
    {
      "cell_type": "code",
      "metadata": {
        "id": "T5F5lOiEKoLV"
      },
      "source": [
        "for t in range(5):\n",
        "  cmd='set t '+str(t+1) # Aqui é feita uma concatenação de um string e uma variavel inteira \n",
        "  ga(cmd) # e correponde ao 'set t ' t\n",
        "  hgt=ga.exp('hgt') \n",
        "  plt.figure(figsize=(10,8))\n",
        "  ax=plt.axes(projection=ccrs.PlateCarree()) # set a projeção\n",
        "  #plot o mapa das linhas de costa. \n",
        "  ax.coastlines(color='k')\n",
        "  plt.contourf(lons, lats,hgt ,cmap='RdGy',linewidths=2)\n",
        "  \n",
        "  plt.title('Altura do geopotencial (m)  em 500 hPa no tempo='+str(t))\n",
        "  file='altura_do_geoptencial_500_t'+str(t)+'.png'\n",
        "  plt.savefig(file)  "
      ],
      "execution_count": null,
      "outputs": []
    },
    {
      "cell_type": "code",
      "source": [
        "for t in range(3):\n",
        "  cmd='set t '+str(t+1) # Aqui é feita uma concatenação de um string e uma variavel inteira \n",
        "  ga(cmd) # e correponde ao 'set t ' t\n",
        "  hgt=ga.exp('hgt') \n",
        "  plt.figure(figsize=(10,8))\n",
        "  ax=plt.axes(projection=ccrs.PlateCarree()) # set a projeção\n",
        "  #plot o mapa das linhas de costa. \n",
        "  ax.coastlines(color='r')\n",
        "  plt.contourf(lons, lats,hgt ,cmap='RdGy',linewidths=2)\n",
        "  \n",
        "  plt.title('Altura do geopotencial (m)  em 500 hPa no tempo='+str(t))\n",
        "  file='altura_do_geoptencial_500_t'+str(t)+'.png'\n",
        "  plt.savefig(file)  "
      ],
      "metadata": {
        "id": "wqhfP2-OcAwA"
      },
      "execution_count": null,
      "outputs": []
    },
    {
      "cell_type": "code",
      "metadata": {
        "id": "EVLMj5JgLMU9"
      },
      "source": [
        "!apt install imagemagick"
      ],
      "execution_count": null,
      "outputs": []
    },
    {
      "cell_type": "code",
      "metadata": {
        "id": "dJifqugdY1CX"
      },
      "source": [
        "!convert  -delay 20 altura*.png movie.gif"
      ],
      "execution_count": null,
      "outputs": []
    },
    {
      "cell_type": "markdown",
      "source": [
        "Faça o mesmo para o vento em 200 hPa "
      ],
      "metadata": {
        "id": "7i5Udh9s-EAG"
      }
    },
    {
      "cell_type": "code",
      "source": [],
      "metadata": {
        "id": "m2xgPXrsl2J_"
      },
      "execution_count": null,
      "outputs": []
    },
    {
      "cell_type": "code",
      "source": [
        "ga('set lon -90') #   sets longitude to 90 degrees West\n",
        "ga('set lat 40') #     sets latitude to 40 degrees North\n",
        "ga('set lev 200')#     sets level to 200 mb\n",
        "ga('set t 1')   #      sets time to first time step\n",
        "hgt=ga.exp('hgt')  #         take a variable called 'hgt'"
      ],
      "metadata": {
        "id": "DLNBzRGTl3kA"
      },
      "execution_count": null,
      "outputs": []
    },
    {
      "cell_type": "code",
      "source": [
        "ga('set lon  -180 0') #   sets longitude to 90 degrees West\n",
        "hgt=ga.exp('hgt')  #         \n",
        "lons = ga.exp('lon')\n",
        "plt.figure(figsize=(10,8))\n",
        "plt.plot(lons,hgt)"
      ],
      "metadata": {
        "id": "Jf7aXooUl-6F"
      },
      "execution_count": null,
      "outputs": []
    },
    {
      "cell_type": "code",
      "source": [
        "ga('set lon  -180 0') #   sets longitude to 90 degrees West\n",
        "hgt=ga.exp('hgt')  #         \n",
        "lons = ga.exp('lon')\n",
        "plt.figure(figsize=(10,8))\n",
        "plt.title(\"Longitude  (°) x Altura (m)\", size = 16)\n",
        "plt.xticks(rotation=90)\n",
        "plt.xlabel(' Longitude (°)',size = 12)\n",
        "plt.ylabel('Altura (m)',size = 12)\n",
        "plt.plot(lons,hgt)\n",
        "\n",
        "\n",
        "\n"
      ],
      "metadata": {
        "id": "5f-vz8f2evAg"
      },
      "execution_count": null,
      "outputs": []
    },
    {
      "cell_type": "code",
      "source": [
        "%matplotlib inline\n",
        "ga('set lat 0 90')\n",
        "ga('set lon 0 360')\n",
        "ga('set lev 200')\n",
        "lons = ga.exp('lon')\n",
        "lats = ga.exp('lat')\n",
        "hgt=ga.exp('hgt')  #  \n",
        "from matplotlib import pyplot as plt\n",
        "plt.figure(figsize=(10,8))\n",
        "ax=plt.axes(projection=ccrs.PlateCarree()) # set a projeção\n",
        "#plot o mapa das linhas de costa.\n",
        "ax.coastlines(color='k')\n",
        "plt.contourf(lons, lats, hgt)\n"
      ],
      "metadata": {
        "id": "1KCMWt05mDqc"
      },
      "execution_count": null,
      "outputs": []
    },
    {
      "cell_type": "code",
      "source": [
        "%matplotlib inline\n",
        "ga('set lat 0 90')\n",
        "ga('set lon 0 360')\n",
        "ga('set lev 200')\n",
        "lons = ga.exp('lon')\n",
        "lats = ga.exp('lat')\n",
        "hgt=ga.exp('hgt')  #  \n",
        "from matplotlib import pyplot as plt\n",
        "plt.figure(figsize=(10,10))\n",
        "ax=plt.axes(projection=ccrs.PlateCarree()) # set a projeção\n",
        "#plot o mapa das linhas de costa.\n",
        "ax.coastlines(color='r')\n",
        "plt.contourf(hgt, lats, lons)\n"
      ],
      "metadata": {
        "id": "ZuJF8Wmjgn7Z"
      },
      "execution_count": null,
      "outputs": []
    },
    {
      "cell_type": "code",
      "source": [
        "%matplotlib inline\n",
        "ga('set lat 0 90')\n",
        "ga('set lon 0 360')\n",
        "ga('set lev 200')\n",
        "lons = ga.exp('lon')\n",
        "lats = ga.exp('lat')\n",
        "hgt=ga.exp('hgt')  #  \n",
        "from matplotlib import pyplot as plt\n",
        "plt.figure(figsize=(10,10))\n",
        "ax=plt.axes(projection=ccrs.PlateCarree()) # set a projeção\n",
        "#plot o mapa das linhas de costa.\n",
        "ax.coastlines(color='r')\n",
        "plt.contourf(lats, lons, hgt)"
      ],
      "metadata": {
        "id": "1lqROcgQhCZw"
      },
      "execution_count": null,
      "outputs": []
    },
    {
      "cell_type": "code",
      "source": [
        "for t in range(5):\n",
        "  cmd='set t '+str(t+1) # Aqui é feita uma concatenação de um string e uma variavel inteira \n",
        "  ga(cmd) # e correponde ao 'set t ' t\n",
        "  hgt=ga.exp('hgt') \n",
        "  plt.figure(figsize=(10,8))\n",
        "  ax=plt.axes(projection=ccrs.PlateCarree()) # set a projeção\n",
        "  #plot o mapa das linhas de costa. \n",
        "  ax.coastlines(color='k')\n",
        "  plt.contourf(lons, lats,hgt ,cmap='RdGy',linewidths=2)\n",
        "  \n",
        "  plt.title('Altura do geopotencial (m)  em 200 hPa no tempo='+str(t))\n",
        "  file='altura_do_geoptencial_200_t'+str(t)+'.png'\n",
        "  plt.savefig(file) "
      ],
      "metadata": {
        "id": "06Cu41K3nqfs"
      },
      "execution_count": null,
      "outputs": []
    },
    {
      "cell_type": "code",
      "source": [
        "for t in range(3):\n",
        "  cmd='set t '+str(t+1) # Aqui é feita uma concatenação de um string e uma variavel inteira \n",
        "  ga(cmd) # e correponde ao 'set t ' t\n",
        "  hgt=ga.exp('hgt') \n",
        "  plt.figure(figsize=(10,8))\n",
        "  ax=plt.axes(projection=ccrs.PlateCarree()) # set a projeção\n",
        "  #plot o mapa das linhas de costa. \n",
        "  ax.coastlines(color='r')\n",
        "  plt.contourf(lons, lats,hgt ,cmap='RdGy',linewidths=2)\n",
        "  \n",
        "  plt.title('Altura do geopotencial (m)  em 200 hPa no tempo='+str(t))\n",
        "  file='altura_do_geoptencial_200_t'+str(t)+'.png'\n",
        "  plt.savefig(file) "
      ],
      "metadata": {
        "id": "pj9EFxGphmAK"
      },
      "execution_count": null,
      "outputs": []
    },
    {
      "cell_type": "code",
      "source": [
        "!apt install imagemagick"
      ],
      "metadata": {
        "id": "CrFL04h4oJuL"
      },
      "execution_count": null,
      "outputs": []
    },
    {
      "cell_type": "code",
      "source": [
        "!convert  -delay 20 altura*.png movie.gif"
      ],
      "metadata": {
        "id": "WN28ZGCcoJ3f"
      },
      "execution_count": null,
      "outputs": []
    }
  ]
}